{
 "metadata": {
  "language_info": {
   "codemirror_mode": {
    "name": "ipython",
    "version": 3
   },
   "file_extension": ".py",
   "mimetype": "text/x-python",
   "name": "python",
   "nbconvert_exporter": "python",
   "pygments_lexer": "ipython3",
   "version": "3.8.5-final"
  },
  "orig_nbformat": 2,
  "kernelspec": {
   "name": "python3",
   "display_name": "Python 3",
   "language": "python"
  }
 },
 "nbformat": 4,
 "nbformat_minor": 2,
 "cells": [
  {
   "cell_type": "code",
   "execution_count": 85,
   "metadata": {},
   "outputs": [],
   "source": [
    "import pandas as pd\n",
    "import numpy as np \n",
    "import requests\n",
    "\n",
    "uri = \"https://gist.githubusercontent.com/guilhermesilveira/e99a526b2e7ccc6c3b70f53db43a87d2/raw/1605fc74aa778066bf2e6695e24d53cf65f2f447/machine-learning-carros-simulacao.csv\"\n",
    "\n",
    "r = requests.get(uri)\n",
    "\n",
    "with open('dados/data.csv', 'wb') as f:\n",
    "    f.write(r.content)"
   ]
  },
  {
   "cell_type": "code",
   "execution_count": 86,
   "metadata": {},
   "outputs": [
    {
     "output_type": "execute_result",
     "data": {
      "text/plain": [
       "       preco  vendido  idade_do_modelo   km_por_ano\n",
       "0   30941.02        1               18  35085.22134\n",
       "1   40557.96        1               20  12622.05362\n",
       "2   89627.50        0               12  11440.79806\n",
       "3   95276.14        0                3  43167.32682\n",
       "4  117384.68        1                4  12770.11290"
      ],
      "text/html": "<div>\n<style scoped>\n    .dataframe tbody tr th:only-of-type {\n        vertical-align: middle;\n    }\n\n    .dataframe tbody tr th {\n        vertical-align: top;\n    }\n\n    .dataframe thead th {\n        text-align: right;\n    }\n</style>\n<table border=\"1\" class=\"dataframe\">\n  <thead>\n    <tr style=\"text-align: right;\">\n      <th></th>\n      <th>preco</th>\n      <th>vendido</th>\n      <th>idade_do_modelo</th>\n      <th>km_por_ano</th>\n    </tr>\n  </thead>\n  <tbody>\n    <tr>\n      <th>0</th>\n      <td>30941.02</td>\n      <td>1</td>\n      <td>18</td>\n      <td>35085.22134</td>\n    </tr>\n    <tr>\n      <th>1</th>\n      <td>40557.96</td>\n      <td>1</td>\n      <td>20</td>\n      <td>12622.05362</td>\n    </tr>\n    <tr>\n      <th>2</th>\n      <td>89627.50</td>\n      <td>0</td>\n      <td>12</td>\n      <td>11440.79806</td>\n    </tr>\n    <tr>\n      <th>3</th>\n      <td>95276.14</td>\n      <td>0</td>\n      <td>3</td>\n      <td>43167.32682</td>\n    </tr>\n    <tr>\n      <th>4</th>\n      <td>117384.68</td>\n      <td>1</td>\n      <td>4</td>\n      <td>12770.11290</td>\n    </tr>\n  </tbody>\n</table>\n</div>"
     },
     "metadata": {},
     "execution_count": 86
    }
   ],
   "source": [
    "dados = pd.read_csv(uri).drop(columns=[\"Unnamed: 0\"], axis=1)\n",
    "dados.head()"
   ]
  },
  {
   "cell_type": "code",
   "execution_count": 87,
   "metadata": {},
   "outputs": [
    {
     "output_type": "stream",
     "name": "stdout",
     "text": [
      "Modelo treinado com 7500 dados e testado com 2500\n",
      "A acuracia do modelo LinearSVC foi de  58.00%\n"
     ]
    }
   ],
   "source": [
    "from sklearn.model_selection import train_test_split\n",
    "from sklearn.svm import LinearSVC\n",
    "\n",
    "SEED = 204035\n",
    "np.random.seed(SEED)\n",
    "\n",
    "x = dados.drop('vendido', axis = 1)\n",
    "y = dados.vendido\n",
    "\n",
    "x_train, x_test, y_train, y_test = train_test_split(x, y, test_size = 0.25, stratify = y)\n",
    "print(f'Modelo treinado com {len(x_train)} dados e testado com {len(x_test)}')\n",
    "\n",
    "\n",
    "modelo = LinearSVC()\n",
    "modelo.fit(x_train, y_train)\n",
    "\n",
    "acuracia = modelo.score(x_test, y_test)\n",
    "print(f'A acuracia do modelo LinearSVC foi de {acuracia * 100 : 0.2f}%')"
   ]
  },
  {
   "cell_type": "code",
   "execution_count": 88,
   "metadata": {},
   "outputs": [
    {
     "output_type": "stream",
     "name": "stdout",
     "text": [
      "Modelo treinado com 7500 dados e testado com 2500\nA acuracia do modelo Dummy foi de  52.32%\n"
     ]
    }
   ],
   "source": [
    "from sklearn.dummy import DummyClassifier\n",
    "\n",
    "SEED = 204035\n",
    "np.random.seed(SEED)\n",
    "\n",
    "x = dados.drop('vendido', axis = 1)\n",
    "y = dados.vendido\n",
    "\n",
    "x_train, x_test, y_train, y_test = train_test_split(x, y, test_size = 0.25, stratify = y)\n",
    "print(f'Modelo treinado com {len(x_train)} dados e testado com {len(x_test)}')\n",
    "\n",
    "\n",
    "modelo = DummyClassifier()\n",
    "modelo.fit(x_train, y_train)\n",
    "\n",
    "acuracia = modelo.score(x_test, y_test)\n",
    "print(f'A acuracia do modelo Dummy foi de {acuracia * 100 : 0.2f}%')\n"
   ]
  },
  {
   "cell_type": "code",
   "execution_count": 89,
   "metadata": {},
   "outputs": [
    {
     "output_type": "stream",
     "name": "stdout",
     "text": [
      "Modelo treinado com 7500 dados e testado com 2500\nA acuracia do modelo DecisionTree foi de  76.76%\n"
     ]
    }
   ],
   "source": [
    "from sklearn.tree import DecisionTreeClassifier\n",
    "\n",
    "SEED = 204035\n",
    "np.random.seed(SEED)\n",
    "\n",
    "x = dados.drop('vendido', axis = 1)\n",
    "y = dados.vendido\n",
    "\n",
    "x_train, x_test, y_train, y_test = train_test_split(x, y, test_size = 0.25, stratify = y)\n",
    "print(f'Modelo treinado com {len(x_train)} dados e testado com {len(x_test)}')\n",
    "\n",
    "modelo = DecisionTreeClassifier(max_depth=2)\n",
    "modelo.fit(x_train, y_train)\n",
    "\n",
    "acuracia = modelo.score(x_test, y_test)\n",
    "print(f'A acuracia do modelo DecisionTree foi de {acuracia * 100 : 0.2f}%')\n"
   ]
  },
  {
   "cell_type": "code",
   "execution_count": 90,
   "metadata": {},
   "outputs": [
    {
     "output_type": "stream",
     "name": "stdout",
     "text": [
      "Acuracia com cross validation, 5 = [ 75.21,  76.35]\n"
     ]
    }
   ],
   "source": [
    "from sklearn.model_selection import cross_validate\n",
    "\n",
    "SEED = 204035\n",
    "np.random.seed(SEED)\n",
    "\n",
    "modelo = DecisionTreeClassifier(max_depth=2)\n",
    "resultados = cross_validate(modelo, x, y, cv = 5)\n",
    "media = resultados['test_score'].mean()\n",
    "desvio_padrao = resultados['test_score'].std()\n",
    "print(f'Acuracia com cross validation, 5 = [{(media - 2* desvio_padrao) * 100 : 0.2f}, {(media + 2* desvio_padrao) * 100 : 0.2f}]')"
   ]
  },
  {
   "source": [
    "# Aleatoriedade no cross validate"
   ],
   "cell_type": "markdown",
   "metadata": {}
  },
  {
   "cell_type": "code",
   "execution_count": 91,
   "metadata": {},
   "outputs": [],
   "source": [
    "def imprime_resultados(results):\n",
    "    media = resultados['test_score'].mean()\n",
    "    desvio_padrao = resultados['test_score'].std()\n",
    "    print(f'Acuracia média: {media * 100:0.2f}')\n",
    "    print(f'Acuracia intervalo: [{(media - 2* desvio_padrao) * 100 :0.2f}, {(media + 2* desvio_padrao) * 100 :0.2f}]')"
   ]
  },
  {
   "cell_type": "code",
   "execution_count": 92,
   "metadata": {},
   "outputs": [
    {
     "output_type": "stream",
     "name": "stdout",
     "text": [
      "Acuracia média: 75.78\n",
      "Acuracia intervalo: [74.37, 77.19]\n"
     ]
    }
   ],
   "source": [
    "from sklearn.model_selection import KFold\n",
    "\n",
    "SEED = 204035\n",
    "np.random.seed(SEED)\n",
    "\n",
    "cv = KFold(n_splits=10)\n",
    "modelo = DecisionTreeClassifier(max_depth=2)\n",
    "resultados = cross_validate(modelo, x, y, cv = cv)\n",
    "imprime_resultados(resultados)"
   ]
  },
  {
   "cell_type": "code",
   "execution_count": 93,
   "metadata": {},
   "outputs": [
    {
     "output_type": "stream",
     "name": "stdout",
     "text": [
      "Acuracia média: 75.78\nAcuracia intervalo: [73.49, 78.07]\n"
     ]
    }
   ],
   "source": [
    "SEED = 204035\n",
    "np.random.seed(SEED)\n",
    "\n",
    "cv = KFold(n_splits=10, shuffle=True)\n",
    "modelo = DecisionTreeClassifier(max_depth=2)\n",
    "resultados = cross_validate(modelo, x, y, cv = cv)\n",
    "imprime_resultados(resultados)"
   ]
  },
  {
   "source": [
    "# Simualar situação horrível de azar\n",
    "Pode ser 'azar' como também pode ser uma situação de desbalanceamento dos dados"
   ],
   "cell_type": "markdown",
   "metadata": {}
  },
  {
   "cell_type": "code",
   "execution_count": 94,
   "metadata": {},
   "outputs": [
    {
     "output_type": "execute_result",
     "data": {
      "text/plain": [
       "         preco  vendido  idade_do_modelo   km_por_ano\n",
       "4999  74023.29        0               12  24812.80412\n",
       "5322  84843.49        0               13  23095.63834\n",
       "5319  83100.27        0               19  36240.72746\n",
       "5316  87932.13        0               16  32249.56426\n",
       "5315  77937.01        0               15  28414.50704"
      ],
      "text/html": "<div>\n<style scoped>\n    .dataframe tbody tr th:only-of-type {\n        vertical-align: middle;\n    }\n\n    .dataframe tbody tr th {\n        vertical-align: top;\n    }\n\n    .dataframe thead th {\n        text-align: right;\n    }\n</style>\n<table border=\"1\" class=\"dataframe\">\n  <thead>\n    <tr style=\"text-align: right;\">\n      <th></th>\n      <th>preco</th>\n      <th>vendido</th>\n      <th>idade_do_modelo</th>\n      <th>km_por_ano</th>\n    </tr>\n  </thead>\n  <tbody>\n    <tr>\n      <th>4999</th>\n      <td>74023.29</td>\n      <td>0</td>\n      <td>12</td>\n      <td>24812.80412</td>\n    </tr>\n    <tr>\n      <th>5322</th>\n      <td>84843.49</td>\n      <td>0</td>\n      <td>13</td>\n      <td>23095.63834</td>\n    </tr>\n    <tr>\n      <th>5319</th>\n      <td>83100.27</td>\n      <td>0</td>\n      <td>19</td>\n      <td>36240.72746</td>\n    </tr>\n    <tr>\n      <th>5316</th>\n      <td>87932.13</td>\n      <td>0</td>\n      <td>16</td>\n      <td>32249.56426</td>\n    </tr>\n    <tr>\n      <th>5315</th>\n      <td>77937.01</td>\n      <td>0</td>\n      <td>15</td>\n      <td>28414.50704</td>\n    </tr>\n  </tbody>\n</table>\n</div>"
     },
     "metadata": {},
     "execution_count": 94
    }
   ],
   "source": [
    "dados_azar = dados.sort_values('vendido')\n",
    "\n",
    "x_azar = dados_azar.drop('vendido', axis = 1)\n",
    "y_azar = dados_azar.vendido\n",
    "dados_azar.head()"
   ]
  },
  {
   "cell_type": "code",
   "execution_count": 95,
   "metadata": {},
   "outputs": [
    {
     "output_type": "stream",
     "name": "stdout",
     "text": [
      "Acuracia média: 57.84\n",
      "Acuracia intervalo: [34.29, 81.39]\n"
     ]
    }
   ],
   "source": [
    "SEED = 204035\n",
    "np.random.seed(SEED)\n",
    "\n",
    "cv = KFold(n_splits=10)\n",
    "modelo = DecisionTreeClassifier(max_depth=2)\n",
    "resultados = cross_validate(modelo, x_azar, y_azar, cv = cv)\n",
    "imprime_resultados(resultados)"
   ]
  },
  {
   "cell_type": "code",
   "execution_count": 96,
   "metadata": {},
   "outputs": [
    {
     "output_type": "stream",
     "name": "stdout",
     "text": [
      "Acuracia média: 75.78\nAcuracia intervalo: [73.37, 78.19]\n"
     ]
    }
   ],
   "source": [
    "SEED = 204035\n",
    "np.random.seed(SEED)\n",
    "\n",
    "cv = KFold(n_splits=10, shuffle=True)\n",
    "modelo = DecisionTreeClassifier(max_depth=2)\n",
    "resultados = cross_validate(modelo, x_azar, y_azar, cv = cv)\n",
    "imprime_resultados(resultados)"
   ]
  },
  {
   "cell_type": "code",
   "execution_count": 97,
   "metadata": {},
   "outputs": [
    {
     "output_type": "stream",
     "name": "stdout",
     "text": [
      "Acuracia média: 75.76\nAcuracia intervalo: [73.20, 78.32]\n"
     ]
    }
   ],
   "source": [
    "from sklearn.model_selection import StratifiedKFold\n",
    "\n",
    "SEED = 204035\n",
    "np.random.seed(SEED)\n",
    "\n",
    "cv = StratifiedKFold(n_splits=10, shuffle=True)\n",
    "modelo = DecisionTreeClassifier(max_depth=2)\n",
    "resultados = cross_validate(modelo, x_azar, y_azar, cv = cv)\n",
    "imprime_resultados(resultados)"
   ]
  },
  {
   "source": [
    "# Validação por agrupamento\n",
    "Criação de um modelo aleatorio para cada carro baseando-se em um intervalo de -2 a 2 a partir da idade do veiculo\n"
   ],
   "cell_type": "markdown",
   "metadata": {}
  },
  {
   "cell_type": "code",
   "execution_count": 98,
   "metadata": {},
   "outputs": [
    {
     "output_type": "execute_result",
     "data": {
      "text/plain": [
       "       preco  vendido  idade_do_modelo   km_por_ano  modelo\n",
       "0   30941.02        1               18  35085.22134      19\n",
       "1   40557.96        1               20  12622.05362      23\n",
       "2   89627.50        0               12  11440.79806      13\n",
       "3   95276.14        0                3  43167.32682       7\n",
       "4  117384.68        1                4  12770.11290       7"
      ],
      "text/html": "<div>\n<style scoped>\n    .dataframe tbody tr th:only-of-type {\n        vertical-align: middle;\n    }\n\n    .dataframe tbody tr th {\n        vertical-align: top;\n    }\n\n    .dataframe thead th {\n        text-align: right;\n    }\n</style>\n<table border=\"1\" class=\"dataframe\">\n  <thead>\n    <tr style=\"text-align: right;\">\n      <th></th>\n      <th>preco</th>\n      <th>vendido</th>\n      <th>idade_do_modelo</th>\n      <th>km_por_ano</th>\n      <th>modelo</th>\n    </tr>\n  </thead>\n  <tbody>\n    <tr>\n      <th>0</th>\n      <td>30941.02</td>\n      <td>1</td>\n      <td>18</td>\n      <td>35085.22134</td>\n      <td>19</td>\n    </tr>\n    <tr>\n      <th>1</th>\n      <td>40557.96</td>\n      <td>1</td>\n      <td>20</td>\n      <td>12622.05362</td>\n      <td>23</td>\n    </tr>\n    <tr>\n      <th>2</th>\n      <td>89627.50</td>\n      <td>0</td>\n      <td>12</td>\n      <td>11440.79806</td>\n      <td>13</td>\n    </tr>\n    <tr>\n      <th>3</th>\n      <td>95276.14</td>\n      <td>0</td>\n      <td>3</td>\n      <td>43167.32682</td>\n      <td>7</td>\n    </tr>\n    <tr>\n      <th>4</th>\n      <td>117384.68</td>\n      <td>1</td>\n      <td>4</td>\n      <td>12770.11290</td>\n      <td>7</td>\n    </tr>\n  </tbody>\n</table>\n</div>"
     },
     "metadata": {},
     "execution_count": 98
    }
   ],
   "source": [
    "\n",
    "np.random.seed(SEED)\n",
    "dados['modelo'] = dados.idade_do_modelo + np.random.randint(-2,3, size = 10000)\n",
    "dados.modelo = dados.modelo + abs(dados.modelo.min()) + 1\n",
    "dados.head()"
   ]
  },
  {
   "cell_type": "code",
   "execution_count": 99,
   "metadata": {},
   "outputs": [
    {
     "output_type": "stream",
     "name": "stdout",
     "text": [
      "Acuracia média: 75.79\nAcuracia intervalo: [74.17, 77.41]\n"
     ]
    }
   ],
   "source": [
    "from sklearn.model_selection import GroupKFold\n",
    "\n",
    "SEED = 204035\n",
    "np.random.seed(SEED)\n",
    "\n",
    "cv = GroupKFold(n_splits=10)\n",
    "modelo = DecisionTreeClassifier(max_depth=2)\n",
    "resultados = cross_validate(modelo, x_azar, y_azar, cv = cv, groups= dados.modelo)\n",
    "imprime_resultados(resultados)"
   ]
  },
  {
   "source": [
    "# Cross validation com StandardScaler"
   ],
   "cell_type": "markdown",
   "metadata": {}
  },
  {
   "cell_type": "code",
   "execution_count": 103,
   "metadata": {},
   "outputs": [
    {
     "output_type": "stream",
     "name": "stdout",
     "text": [
      "A acuracia do modelo SVC foi de  77.24%\n"
     ]
    }
   ],
   "source": [
    "from sklearn.preprocessing import StandardScaler\n",
    "from sklearn.svm import SVC\n",
    "\n",
    "SEED = 301\n",
    "np.random.seed(SEED)\n",
    "\n",
    "scaler = StandardScaler()\n",
    "scaler.fit(x_train)\n",
    "x_train_scaled = scaler.transform(x_train)\n",
    "x_test_scaled = scaler.transform(x_test)\n",
    "\n",
    "modelo = SVC()\n",
    "modelo.fit(x_train_scaled, y_train)\n",
    "\n",
    "acuracia = modelo.score(x_test_scaled, y_test)\n",
    "print(f'A acuracia do modelo SVC foi de {acuracia * 100 : 0.2f}%')"
   ]
  },
  {
   "cell_type": "code",
   "execution_count": 107,
   "metadata": {},
   "outputs": [
    {
     "output_type": "stream",
     "name": "stdout",
     "text": [
      "Acuracia média: 77.32\nAcuracia intervalo: [75.64, 79.00]\n"
     ]
    }
   ],
   "source": [
    "SEED = 5798\n",
    "np.random.seed(SEED)\n",
    "\n",
    "cv = GroupKFold(n_splits=10)\n",
    "modelo = SVC()\n",
    "resultados = cross_validate(modelo, x_azar, y_azar, cv = cv, groups= dados.modelo)\n",
    "imprime_resultados(resultados)"
   ]
  },
  {
   "cell_type": "code",
   "execution_count": 113,
   "metadata": {},
   "outputs": [
    {
     "output_type": "stream",
     "name": "stdout",
     "text": [
      "Acuracia média: 76.76\nAcuracia intervalo: [75.55, 77.98]\n"
     ]
    }
   ],
   "source": [
    "from sklearn.pipeline import Pipeline\n",
    "\n",
    "\n",
    "SEED = 5798\n",
    "np.random.seed(SEED)\n",
    "\n",
    "scaler = StandardScaler()\n",
    "modelo = SVC()\n",
    "\n",
    "pipeline = Pipeline([('transformacao', scaler), ('estimador', modelo)])\n",
    "\n",
    "\n",
    "cv = GroupKFold(n_splits=10)\n",
    "resultados = cross_validate(pipeline, x_azar, y_azar, cv = cv, groups= dados.modelo)\n",
    "imprime_resultados(resultados)"
   ]
  },
  {
   "cell_type": "code",
   "execution_count": null,
   "metadata": {},
   "outputs": [],
   "source": []
  }
 ]
}