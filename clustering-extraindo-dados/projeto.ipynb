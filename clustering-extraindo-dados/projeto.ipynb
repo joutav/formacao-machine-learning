{
 "metadata": {
  "language_info": {
   "codemirror_mode": {
    "name": "ipython",
    "version": 3
   },
   "file_extension": ".py",
   "mimetype": "text/x-python",
   "name": "python",
   "nbconvert_exporter": "python",
   "pygments_lexer": "ipython3",
   "version": "3.8.5-final"
  },
  "orig_nbformat": 2,
  "kernelspec": {
   "name": "python3",
   "display_name": "Python 3",
   "language": "python"
  }
 },
 "nbformat": 4,
 "nbformat_minor": 2,
 "cells": [
  {
   "cell_type": "code",
   "execution_count": 1,
   "metadata": {},
   "outputs": [
    {
     "output_type": "execute_result",
     "data": {
      "text/plain": [
       "  CUST_ID      BALANCE  BALANCE_FREQUENCY  PURCHASES  ONEOFF_PURCHASES  \\\n",
       "0  C10001    40.900749           0.818182      95.40              0.00   \n",
       "1  C10002  3202.467416           0.909091       0.00              0.00   \n",
       "2  C10003  2495.148862           1.000000     773.17            773.17   \n",
       "3  C10004  1666.670542           0.636364    1499.00           1499.00   \n",
       "4  C10005   817.714335           1.000000      16.00             16.00   \n",
       "\n",
       "   INSTALLMENTS_PURCHASES  CASH_ADVANCE  PURCHASES_FREQUENCY  \\\n",
       "0                    95.4      0.000000             0.166667   \n",
       "1                     0.0   6442.945483             0.000000   \n",
       "2                     0.0      0.000000             1.000000   \n",
       "3                     0.0    205.788017             0.083333   \n",
       "4                     0.0      0.000000             0.083333   \n",
       "\n",
       "   ONEOFF_PURCHASES_FREQUENCY  PURCHASES_INSTALLMENTS_FREQUENCY  \\\n",
       "0                    0.000000                          0.083333   \n",
       "1                    0.000000                          0.000000   \n",
       "2                    1.000000                          0.000000   \n",
       "3                    0.083333                          0.000000   \n",
       "4                    0.083333                          0.000000   \n",
       "\n",
       "   CASH_ADVANCE_FREQUENCY  CASH_ADVANCE_TRX  PURCHASES_TRX  CREDIT_LIMIT  \\\n",
       "0                0.000000                 0              2        1000.0   \n",
       "1                0.250000                 4              0        7000.0   \n",
       "2                0.000000                 0             12        7500.0   \n",
       "3                0.083333                 1              1        7500.0   \n",
       "4                0.000000                 0              1        1200.0   \n",
       "\n",
       "      PAYMENTS  MINIMUM_PAYMENTS  PRC_FULL_PAYMENT  TENURE  \n",
       "0   201.802084        139.509787          0.000000      12  \n",
       "1  4103.032597       1072.340217          0.222222      12  \n",
       "2   622.066742        627.284787          0.000000      12  \n",
       "3     0.000000               NaN          0.000000      12  \n",
       "4   678.334763        244.791237          0.000000      12  "
      ],
      "text/html": "<div>\n<style scoped>\n    .dataframe tbody tr th:only-of-type {\n        vertical-align: middle;\n    }\n\n    .dataframe tbody tr th {\n        vertical-align: top;\n    }\n\n    .dataframe thead th {\n        text-align: right;\n    }\n</style>\n<table border=\"1\" class=\"dataframe\">\n  <thead>\n    <tr style=\"text-align: right;\">\n      <th></th>\n      <th>CUST_ID</th>\n      <th>BALANCE</th>\n      <th>BALANCE_FREQUENCY</th>\n      <th>PURCHASES</th>\n      <th>ONEOFF_PURCHASES</th>\n      <th>INSTALLMENTS_PURCHASES</th>\n      <th>CASH_ADVANCE</th>\n      <th>PURCHASES_FREQUENCY</th>\n      <th>ONEOFF_PURCHASES_FREQUENCY</th>\n      <th>PURCHASES_INSTALLMENTS_FREQUENCY</th>\n      <th>CASH_ADVANCE_FREQUENCY</th>\n      <th>CASH_ADVANCE_TRX</th>\n      <th>PURCHASES_TRX</th>\n      <th>CREDIT_LIMIT</th>\n      <th>PAYMENTS</th>\n      <th>MINIMUM_PAYMENTS</th>\n      <th>PRC_FULL_PAYMENT</th>\n      <th>TENURE</th>\n    </tr>\n  </thead>\n  <tbody>\n    <tr>\n      <th>0</th>\n      <td>C10001</td>\n      <td>40.900749</td>\n      <td>0.818182</td>\n      <td>95.40</td>\n      <td>0.00</td>\n      <td>95.4</td>\n      <td>0.000000</td>\n      <td>0.166667</td>\n      <td>0.000000</td>\n      <td>0.083333</td>\n      <td>0.000000</td>\n      <td>0</td>\n      <td>2</td>\n      <td>1000.0</td>\n      <td>201.802084</td>\n      <td>139.509787</td>\n      <td>0.000000</td>\n      <td>12</td>\n    </tr>\n    <tr>\n      <th>1</th>\n      <td>C10002</td>\n      <td>3202.467416</td>\n      <td>0.909091</td>\n      <td>0.00</td>\n      <td>0.00</td>\n      <td>0.0</td>\n      <td>6442.945483</td>\n      <td>0.000000</td>\n      <td>0.000000</td>\n      <td>0.000000</td>\n      <td>0.250000</td>\n      <td>4</td>\n      <td>0</td>\n      <td>7000.0</td>\n      <td>4103.032597</td>\n      <td>1072.340217</td>\n      <td>0.222222</td>\n      <td>12</td>\n    </tr>\n    <tr>\n      <th>2</th>\n      <td>C10003</td>\n      <td>2495.148862</td>\n      <td>1.000000</td>\n      <td>773.17</td>\n      <td>773.17</td>\n      <td>0.0</td>\n      <td>0.000000</td>\n      <td>1.000000</td>\n      <td>1.000000</td>\n      <td>0.000000</td>\n      <td>0.000000</td>\n      <td>0</td>\n      <td>12</td>\n      <td>7500.0</td>\n      <td>622.066742</td>\n      <td>627.284787</td>\n      <td>0.000000</td>\n      <td>12</td>\n    </tr>\n    <tr>\n      <th>3</th>\n      <td>C10004</td>\n      <td>1666.670542</td>\n      <td>0.636364</td>\n      <td>1499.00</td>\n      <td>1499.00</td>\n      <td>0.0</td>\n      <td>205.788017</td>\n      <td>0.083333</td>\n      <td>0.083333</td>\n      <td>0.000000</td>\n      <td>0.083333</td>\n      <td>1</td>\n      <td>1</td>\n      <td>7500.0</td>\n      <td>0.000000</td>\n      <td>NaN</td>\n      <td>0.000000</td>\n      <td>12</td>\n    </tr>\n    <tr>\n      <th>4</th>\n      <td>C10005</td>\n      <td>817.714335</td>\n      <td>1.000000</td>\n      <td>16.00</td>\n      <td>16.00</td>\n      <td>0.0</td>\n      <td>0.000000</td>\n      <td>0.083333</td>\n      <td>0.083333</td>\n      <td>0.000000</td>\n      <td>0.000000</td>\n      <td>0</td>\n      <td>1</td>\n      <td>1200.0</td>\n      <td>678.334763</td>\n      <td>244.791237</td>\n      <td>0.000000</td>\n      <td>12</td>\n    </tr>\n  </tbody>\n</table>\n</div>"
     },
     "metadata": {},
     "execution_count": 1
    }
   ],
   "source": [
    "import pandas as pd \n",
    "import requests\n",
    "\n",
    "url = 'https://raw.githubusercontent.com/alura-cursos/alura-clustering-validation/base-de-dados/CC%20GENERAL.csv'\n",
    "r = requests.get(url)\n",
    "with open('dados/cc_general.csv', 'wb') as f:\n",
    "    f.write(r.content)\n",
    "\n",
    "df = pd.read_csv('dados/cc_general.csv')\n",
    "df.head()"
   ]
  },
  {
   "cell_type": "code",
   "execution_count": 2,
   "metadata": {},
   "outputs": [
    {
     "output_type": "execute_result",
     "data": {
      "text/plain": [
       "       BALANCE  BALANCE_FREQUENCY  PURCHASES  ONEOFF_PURCHASES  \\\n",
       "0    40.900749           0.818182      95.40              0.00   \n",
       "1  3202.467416           0.909091       0.00              0.00   \n",
       "2  2495.148862           1.000000     773.17            773.17   \n",
       "3  1666.670542           0.636364    1499.00           1499.00   \n",
       "4   817.714335           1.000000      16.00             16.00   \n",
       "\n",
       "   INSTALLMENTS_PURCHASES  CASH_ADVANCE  PURCHASES_FREQUENCY  \\\n",
       "0                    95.4      0.000000             0.166667   \n",
       "1                     0.0   6442.945483             0.000000   \n",
       "2                     0.0      0.000000             1.000000   \n",
       "3                     0.0    205.788017             0.083333   \n",
       "4                     0.0      0.000000             0.083333   \n",
       "\n",
       "   ONEOFF_PURCHASES_FREQUENCY  PURCHASES_INSTALLMENTS_FREQUENCY  \\\n",
       "0                    0.000000                          0.083333   \n",
       "1                    0.000000                          0.000000   \n",
       "2                    1.000000                          0.000000   \n",
       "3                    0.083333                          0.000000   \n",
       "4                    0.083333                          0.000000   \n",
       "\n",
       "   CASH_ADVANCE_FREQUENCY  CASH_ADVANCE_TRX  PURCHASES_TRX  CREDIT_LIMIT  \\\n",
       "0                0.000000                 0              2        1000.0   \n",
       "1                0.250000                 4              0        7000.0   \n",
       "2                0.000000                 0             12        7500.0   \n",
       "3                0.083333                 1              1        7500.0   \n",
       "4                0.000000                 0              1        1200.0   \n",
       "\n",
       "      PAYMENTS  MINIMUM_PAYMENTS  PRC_FULL_PAYMENT  \n",
       "0   201.802084        139.509787          0.000000  \n",
       "1  4103.032597       1072.340217          0.222222  \n",
       "2   622.066742        627.284787          0.000000  \n",
       "3     0.000000               NaN          0.000000  \n",
       "4   678.334763        244.791237          0.000000  "
      ],
      "text/html": "<div>\n<style scoped>\n    .dataframe tbody tr th:only-of-type {\n        vertical-align: middle;\n    }\n\n    .dataframe tbody tr th {\n        vertical-align: top;\n    }\n\n    .dataframe thead th {\n        text-align: right;\n    }\n</style>\n<table border=\"1\" class=\"dataframe\">\n  <thead>\n    <tr style=\"text-align: right;\">\n      <th></th>\n      <th>BALANCE</th>\n      <th>BALANCE_FREQUENCY</th>\n      <th>PURCHASES</th>\n      <th>ONEOFF_PURCHASES</th>\n      <th>INSTALLMENTS_PURCHASES</th>\n      <th>CASH_ADVANCE</th>\n      <th>PURCHASES_FREQUENCY</th>\n      <th>ONEOFF_PURCHASES_FREQUENCY</th>\n      <th>PURCHASES_INSTALLMENTS_FREQUENCY</th>\n      <th>CASH_ADVANCE_FREQUENCY</th>\n      <th>CASH_ADVANCE_TRX</th>\n      <th>PURCHASES_TRX</th>\n      <th>CREDIT_LIMIT</th>\n      <th>PAYMENTS</th>\n      <th>MINIMUM_PAYMENTS</th>\n      <th>PRC_FULL_PAYMENT</th>\n    </tr>\n  </thead>\n  <tbody>\n    <tr>\n      <th>0</th>\n      <td>40.900749</td>\n      <td>0.818182</td>\n      <td>95.40</td>\n      <td>0.00</td>\n      <td>95.4</td>\n      <td>0.000000</td>\n      <td>0.166667</td>\n      <td>0.000000</td>\n      <td>0.083333</td>\n      <td>0.000000</td>\n      <td>0</td>\n      <td>2</td>\n      <td>1000.0</td>\n      <td>201.802084</td>\n      <td>139.509787</td>\n      <td>0.000000</td>\n    </tr>\n    <tr>\n      <th>1</th>\n      <td>3202.467416</td>\n      <td>0.909091</td>\n      <td>0.00</td>\n      <td>0.00</td>\n      <td>0.0</td>\n      <td>6442.945483</td>\n      <td>0.000000</td>\n      <td>0.000000</td>\n      <td>0.000000</td>\n      <td>0.250000</td>\n      <td>4</td>\n      <td>0</td>\n      <td>7000.0</td>\n      <td>4103.032597</td>\n      <td>1072.340217</td>\n      <td>0.222222</td>\n    </tr>\n    <tr>\n      <th>2</th>\n      <td>2495.148862</td>\n      <td>1.000000</td>\n      <td>773.17</td>\n      <td>773.17</td>\n      <td>0.0</td>\n      <td>0.000000</td>\n      <td>1.000000</td>\n      <td>1.000000</td>\n      <td>0.000000</td>\n      <td>0.000000</td>\n      <td>0</td>\n      <td>12</td>\n      <td>7500.0</td>\n      <td>622.066742</td>\n      <td>627.284787</td>\n      <td>0.000000</td>\n    </tr>\n    <tr>\n      <th>3</th>\n      <td>1666.670542</td>\n      <td>0.636364</td>\n      <td>1499.00</td>\n      <td>1499.00</td>\n      <td>0.0</td>\n      <td>205.788017</td>\n      <td>0.083333</td>\n      <td>0.083333</td>\n      <td>0.000000</td>\n      <td>0.083333</td>\n      <td>1</td>\n      <td>1</td>\n      <td>7500.0</td>\n      <td>0.000000</td>\n      <td>NaN</td>\n      <td>0.000000</td>\n    </tr>\n    <tr>\n      <th>4</th>\n      <td>817.714335</td>\n      <td>1.000000</td>\n      <td>16.00</td>\n      <td>16.00</td>\n      <td>0.0</td>\n      <td>0.000000</td>\n      <td>0.083333</td>\n      <td>0.083333</td>\n      <td>0.000000</td>\n      <td>0.000000</td>\n      <td>0</td>\n      <td>1</td>\n      <td>1200.0</td>\n      <td>678.334763</td>\n      <td>244.791237</td>\n      <td>0.000000</td>\n    </tr>\n  </tbody>\n</table>\n</div>"
     },
     "metadata": {},
     "execution_count": 2
    }
   ],
   "source": [
    "# Remoção de colunas inuteis\n",
    "df.drop(['CUST_ID', 'TENURE'], axis = 1, inplace=True)\n",
    "df.head()\n"
   ]
  },
  {
   "cell_type": "code",
   "execution_count": 3,
   "metadata": {},
   "outputs": [
    {
     "output_type": "execute_result",
     "data": {
      "text/plain": [
       "            BALANCE  BALANCE_FREQUENCY     PURCHASES  ONEOFF_PURCHASES  \\\n",
       "count   8950.000000        8950.000000   8950.000000       8950.000000   \n",
       "mean    1564.474828           0.877271   1003.204834        592.437371   \n",
       "std     2081.531879           0.236904   2136.634782       1659.887917   \n",
       "min        0.000000           0.000000      0.000000          0.000000   \n",
       "25%      128.281915           0.888889     39.635000          0.000000   \n",
       "50%      873.385231           1.000000    361.280000         38.000000   \n",
       "75%     2054.140036           1.000000   1110.130000        577.405000   \n",
       "max    19043.138560           1.000000  49039.570000      40761.250000   \n",
       "\n",
       "       INSTALLMENTS_PURCHASES  CASH_ADVANCE  PURCHASES_FREQUENCY  \\\n",
       "count             8950.000000   8950.000000          8950.000000   \n",
       "mean               411.067645    978.871112             0.490351   \n",
       "std                904.338115   2097.163877             0.401371   \n",
       "min                  0.000000      0.000000             0.000000   \n",
       "25%                  0.000000      0.000000             0.083333   \n",
       "50%                 89.000000      0.000000             0.500000   \n",
       "75%                468.637500   1113.821139             0.916667   \n",
       "max              22500.000000  47137.211760             1.000000   \n",
       "\n",
       "       ONEOFF_PURCHASES_FREQUENCY  PURCHASES_INSTALLMENTS_FREQUENCY  \\\n",
       "count                 8950.000000                       8950.000000   \n",
       "mean                     0.202458                          0.364437   \n",
       "std                      0.298336                          0.397448   \n",
       "min                      0.000000                          0.000000   \n",
       "25%                      0.000000                          0.000000   \n",
       "50%                      0.083333                          0.166667   \n",
       "75%                      0.300000                          0.750000   \n",
       "max                      1.000000                          1.000000   \n",
       "\n",
       "       CASH_ADVANCE_FREQUENCY  CASH_ADVANCE_TRX  PURCHASES_TRX  CREDIT_LIMIT  \\\n",
       "count             8950.000000       8950.000000    8950.000000   8949.000000   \n",
       "mean                 0.135144          3.248827      14.709832   4494.449450   \n",
       "std                  0.200121          6.824647      24.857649   3638.815725   \n",
       "min                  0.000000          0.000000       0.000000     50.000000   \n",
       "25%                  0.000000          0.000000       1.000000   1600.000000   \n",
       "50%                  0.000000          0.000000       7.000000   3000.000000   \n",
       "75%                  0.222222          4.000000      17.000000   6500.000000   \n",
       "max                  1.500000        123.000000     358.000000  30000.000000   \n",
       "\n",
       "           PAYMENTS  MINIMUM_PAYMENTS  PRC_FULL_PAYMENT  \n",
       "count   8950.000000       8637.000000       8950.000000  \n",
       "mean    1733.143852        864.206542          0.153715  \n",
       "std     2895.063757       2372.446607          0.292499  \n",
       "min        0.000000          0.019163          0.000000  \n",
       "25%      383.276166        169.123707          0.000000  \n",
       "50%      856.901546        312.343947          0.000000  \n",
       "75%     1901.134317        825.485459          0.142857  \n",
       "max    50721.483360      76406.207520          1.000000  "
      ],
      "text/html": "<div>\n<style scoped>\n    .dataframe tbody tr th:only-of-type {\n        vertical-align: middle;\n    }\n\n    .dataframe tbody tr th {\n        vertical-align: top;\n    }\n\n    .dataframe thead th {\n        text-align: right;\n    }\n</style>\n<table border=\"1\" class=\"dataframe\">\n  <thead>\n    <tr style=\"text-align: right;\">\n      <th></th>\n      <th>BALANCE</th>\n      <th>BALANCE_FREQUENCY</th>\n      <th>PURCHASES</th>\n      <th>ONEOFF_PURCHASES</th>\n      <th>INSTALLMENTS_PURCHASES</th>\n      <th>CASH_ADVANCE</th>\n      <th>PURCHASES_FREQUENCY</th>\n      <th>ONEOFF_PURCHASES_FREQUENCY</th>\n      <th>PURCHASES_INSTALLMENTS_FREQUENCY</th>\n      <th>CASH_ADVANCE_FREQUENCY</th>\n      <th>CASH_ADVANCE_TRX</th>\n      <th>PURCHASES_TRX</th>\n      <th>CREDIT_LIMIT</th>\n      <th>PAYMENTS</th>\n      <th>MINIMUM_PAYMENTS</th>\n      <th>PRC_FULL_PAYMENT</th>\n    </tr>\n  </thead>\n  <tbody>\n    <tr>\n      <th>count</th>\n      <td>8950.000000</td>\n      <td>8950.000000</td>\n      <td>8950.000000</td>\n      <td>8950.000000</td>\n      <td>8950.000000</td>\n      <td>8950.000000</td>\n      <td>8950.000000</td>\n      <td>8950.000000</td>\n      <td>8950.000000</td>\n      <td>8950.000000</td>\n      <td>8950.000000</td>\n      <td>8950.000000</td>\n      <td>8949.000000</td>\n      <td>8950.000000</td>\n      <td>8637.000000</td>\n      <td>8950.000000</td>\n    </tr>\n    <tr>\n      <th>mean</th>\n      <td>1564.474828</td>\n      <td>0.877271</td>\n      <td>1003.204834</td>\n      <td>592.437371</td>\n      <td>411.067645</td>\n      <td>978.871112</td>\n      <td>0.490351</td>\n      <td>0.202458</td>\n      <td>0.364437</td>\n      <td>0.135144</td>\n      <td>3.248827</td>\n      <td>14.709832</td>\n      <td>4494.449450</td>\n      <td>1733.143852</td>\n      <td>864.206542</td>\n      <td>0.153715</td>\n    </tr>\n    <tr>\n      <th>std</th>\n      <td>2081.531879</td>\n      <td>0.236904</td>\n      <td>2136.634782</td>\n      <td>1659.887917</td>\n      <td>904.338115</td>\n      <td>2097.163877</td>\n      <td>0.401371</td>\n      <td>0.298336</td>\n      <td>0.397448</td>\n      <td>0.200121</td>\n      <td>6.824647</td>\n      <td>24.857649</td>\n      <td>3638.815725</td>\n      <td>2895.063757</td>\n      <td>2372.446607</td>\n      <td>0.292499</td>\n    </tr>\n    <tr>\n      <th>min</th>\n      <td>0.000000</td>\n      <td>0.000000</td>\n      <td>0.000000</td>\n      <td>0.000000</td>\n      <td>0.000000</td>\n      <td>0.000000</td>\n      <td>0.000000</td>\n      <td>0.000000</td>\n      <td>0.000000</td>\n      <td>0.000000</td>\n      <td>0.000000</td>\n      <td>0.000000</td>\n      <td>50.000000</td>\n      <td>0.000000</td>\n      <td>0.019163</td>\n      <td>0.000000</td>\n    </tr>\n    <tr>\n      <th>25%</th>\n      <td>128.281915</td>\n      <td>0.888889</td>\n      <td>39.635000</td>\n      <td>0.000000</td>\n      <td>0.000000</td>\n      <td>0.000000</td>\n      <td>0.083333</td>\n      <td>0.000000</td>\n      <td>0.000000</td>\n      <td>0.000000</td>\n      <td>0.000000</td>\n      <td>1.000000</td>\n      <td>1600.000000</td>\n      <td>383.276166</td>\n      <td>169.123707</td>\n      <td>0.000000</td>\n    </tr>\n    <tr>\n      <th>50%</th>\n      <td>873.385231</td>\n      <td>1.000000</td>\n      <td>361.280000</td>\n      <td>38.000000</td>\n      <td>89.000000</td>\n      <td>0.000000</td>\n      <td>0.500000</td>\n      <td>0.083333</td>\n      <td>0.166667</td>\n      <td>0.000000</td>\n      <td>0.000000</td>\n      <td>7.000000</td>\n      <td>3000.000000</td>\n      <td>856.901546</td>\n      <td>312.343947</td>\n      <td>0.000000</td>\n    </tr>\n    <tr>\n      <th>75%</th>\n      <td>2054.140036</td>\n      <td>1.000000</td>\n      <td>1110.130000</td>\n      <td>577.405000</td>\n      <td>468.637500</td>\n      <td>1113.821139</td>\n      <td>0.916667</td>\n      <td>0.300000</td>\n      <td>0.750000</td>\n      <td>0.222222</td>\n      <td>4.000000</td>\n      <td>17.000000</td>\n      <td>6500.000000</td>\n      <td>1901.134317</td>\n      <td>825.485459</td>\n      <td>0.142857</td>\n    </tr>\n    <tr>\n      <th>max</th>\n      <td>19043.138560</td>\n      <td>1.000000</td>\n      <td>49039.570000</td>\n      <td>40761.250000</td>\n      <td>22500.000000</td>\n      <td>47137.211760</td>\n      <td>1.000000</td>\n      <td>1.000000</td>\n      <td>1.000000</td>\n      <td>1.500000</td>\n      <td>123.000000</td>\n      <td>358.000000</td>\n      <td>30000.000000</td>\n      <td>50721.483360</td>\n      <td>76406.207520</td>\n      <td>1.000000</td>\n    </tr>\n  </tbody>\n</table>\n</div>"
     },
     "metadata": {},
     "execution_count": 3
    }
   ],
   "source": [
    "df.describe()\n"
   ]
  },
  {
   "cell_type": "code",
   "execution_count": 4,
   "metadata": {},
   "outputs": [],
   "source": [
    "# Pode-se notar varios outliers nos dados"
   ]
  },
  {
   "cell_type": "code",
   "execution_count": 5,
   "metadata": {},
   "outputs": [
    {
     "output_type": "execute_result",
     "data": {
      "text/plain": [
       "MINIMUM_PAYMENTS    313\n",
       "CREDIT_LIMIT          1\n",
       "PRC_FULL_PAYMENT      0\n",
       "PAYMENTS              0\n",
       "PURCHASES_TRX         0\n",
       "dtype: int64"
      ]
     },
     "metadata": {},
     "execution_count": 5
    }
   ],
   "source": [
    "# Tratamento de dados faltantes\n",
    "df.isna().sum().sort_values(ascending  = False).head()"
   ]
  },
  {
   "cell_type": "code",
   "execution_count": 6,
   "metadata": {},
   "outputs": [
    {
     "output_type": "execute_result",
     "data": {
      "text/plain": [
       "PRC_FULL_PAYMENT    0\n",
       "MINIMUM_PAYMENTS    0\n",
       "PAYMENTS            0\n",
       "CREDIT_LIMIT        0\n",
       "PURCHASES_TRX       0\n",
       "dtype: int64"
      ]
     },
     "metadata": {},
     "execution_count": 6
    }
   ],
   "source": [
    "df.fillna(df.median(), inplace=True)\n",
    "df.isna().sum().sort_values(ascending  = False).head()"
   ]
  },
  {
   "cell_type": "code",
   "execution_count": 7,
   "metadata": {},
   "outputs": [
    {
     "output_type": "execute_result",
     "data": {
      "text/plain": [
       "            BALANCE  BALANCE_FREQUENCY     PURCHASES  ONEOFF_PURCHASES  \\\n",
       "count   8950.000000        8950.000000   8950.000000       8950.000000   \n",
       "mean    1564.474828           0.877271   1003.204834        592.437371   \n",
       "std     2081.531879           0.236904   2136.634782       1659.887917   \n",
       "min        0.000000           0.000000      0.000000          0.000000   \n",
       "25%      128.281915           0.888889     39.635000          0.000000   \n",
       "50%      873.385231           1.000000    361.280000         38.000000   \n",
       "75%     2054.140036           1.000000   1110.130000        577.405000   \n",
       "max    19043.138560           1.000000  49039.570000      40761.250000   \n",
       "\n",
       "       INSTALLMENTS_PURCHASES  CASH_ADVANCE  PURCHASES_FREQUENCY  \\\n",
       "count             8950.000000   8950.000000          8950.000000   \n",
       "mean               411.067645    978.871112             0.490351   \n",
       "std                904.338115   2097.163877             0.401371   \n",
       "min                  0.000000      0.000000             0.000000   \n",
       "25%                  0.000000      0.000000             0.083333   \n",
       "50%                 89.000000      0.000000             0.500000   \n",
       "75%                468.637500   1113.821139             0.916667   \n",
       "max              22500.000000  47137.211760             1.000000   \n",
       "\n",
       "       ONEOFF_PURCHASES_FREQUENCY  PURCHASES_INSTALLMENTS_FREQUENCY  \\\n",
       "count                 8950.000000                       8950.000000   \n",
       "mean                     0.202458                          0.364437   \n",
       "std                      0.298336                          0.397448   \n",
       "min                      0.000000                          0.000000   \n",
       "25%                      0.000000                          0.000000   \n",
       "50%                      0.083333                          0.166667   \n",
       "75%                      0.300000                          0.750000   \n",
       "max                      1.000000                          1.000000   \n",
       "\n",
       "       CASH_ADVANCE_FREQUENCY  CASH_ADVANCE_TRX  PURCHASES_TRX  CREDIT_LIMIT  \\\n",
       "count             8950.000000       8950.000000    8950.000000   8950.000000   \n",
       "mean                 0.135144          3.248827      14.709832   4494.282473   \n",
       "std                  0.200121          6.824647      24.857649   3638.646702   \n",
       "min                  0.000000          0.000000       0.000000     50.000000   \n",
       "25%                  0.000000          0.000000       1.000000   1600.000000   \n",
       "50%                  0.000000          0.000000       7.000000   3000.000000   \n",
       "75%                  0.222222          4.000000      17.000000   6500.000000   \n",
       "max                  1.500000        123.000000     358.000000  30000.000000   \n",
       "\n",
       "           PAYMENTS  MINIMUM_PAYMENTS  PRC_FULL_PAYMENT  \n",
       "count   8950.000000       8950.000000       8950.000000  \n",
       "mean    1733.143852        844.906767          0.153715  \n",
       "std     2895.063757       2332.792322          0.292499  \n",
       "min        0.000000          0.019163          0.000000  \n",
       "25%      383.276166        170.857654          0.000000  \n",
       "50%      856.901546        312.343947          0.000000  \n",
       "75%     1901.134317        788.713501          0.142857  \n",
       "max    50721.483360      76406.207520          1.000000  "
      ],
      "text/html": "<div>\n<style scoped>\n    .dataframe tbody tr th:only-of-type {\n        vertical-align: middle;\n    }\n\n    .dataframe tbody tr th {\n        vertical-align: top;\n    }\n\n    .dataframe thead th {\n        text-align: right;\n    }\n</style>\n<table border=\"1\" class=\"dataframe\">\n  <thead>\n    <tr style=\"text-align: right;\">\n      <th></th>\n      <th>BALANCE</th>\n      <th>BALANCE_FREQUENCY</th>\n      <th>PURCHASES</th>\n      <th>ONEOFF_PURCHASES</th>\n      <th>INSTALLMENTS_PURCHASES</th>\n      <th>CASH_ADVANCE</th>\n      <th>PURCHASES_FREQUENCY</th>\n      <th>ONEOFF_PURCHASES_FREQUENCY</th>\n      <th>PURCHASES_INSTALLMENTS_FREQUENCY</th>\n      <th>CASH_ADVANCE_FREQUENCY</th>\n      <th>CASH_ADVANCE_TRX</th>\n      <th>PURCHASES_TRX</th>\n      <th>CREDIT_LIMIT</th>\n      <th>PAYMENTS</th>\n      <th>MINIMUM_PAYMENTS</th>\n      <th>PRC_FULL_PAYMENT</th>\n    </tr>\n  </thead>\n  <tbody>\n    <tr>\n      <th>count</th>\n      <td>8950.000000</td>\n      <td>8950.000000</td>\n      <td>8950.000000</td>\n      <td>8950.000000</td>\n      <td>8950.000000</td>\n      <td>8950.000000</td>\n      <td>8950.000000</td>\n      <td>8950.000000</td>\n      <td>8950.000000</td>\n      <td>8950.000000</td>\n      <td>8950.000000</td>\n      <td>8950.000000</td>\n      <td>8950.000000</td>\n      <td>8950.000000</td>\n      <td>8950.000000</td>\n      <td>8950.000000</td>\n    </tr>\n    <tr>\n      <th>mean</th>\n      <td>1564.474828</td>\n      <td>0.877271</td>\n      <td>1003.204834</td>\n      <td>592.437371</td>\n      <td>411.067645</td>\n      <td>978.871112</td>\n      <td>0.490351</td>\n      <td>0.202458</td>\n      <td>0.364437</td>\n      <td>0.135144</td>\n      <td>3.248827</td>\n      <td>14.709832</td>\n      <td>4494.282473</td>\n      <td>1733.143852</td>\n      <td>844.906767</td>\n      <td>0.153715</td>\n    </tr>\n    <tr>\n      <th>std</th>\n      <td>2081.531879</td>\n      <td>0.236904</td>\n      <td>2136.634782</td>\n      <td>1659.887917</td>\n      <td>904.338115</td>\n      <td>2097.163877</td>\n      <td>0.401371</td>\n      <td>0.298336</td>\n      <td>0.397448</td>\n      <td>0.200121</td>\n      <td>6.824647</td>\n      <td>24.857649</td>\n      <td>3638.646702</td>\n      <td>2895.063757</td>\n      <td>2332.792322</td>\n      <td>0.292499</td>\n    </tr>\n    <tr>\n      <th>min</th>\n      <td>0.000000</td>\n      <td>0.000000</td>\n      <td>0.000000</td>\n      <td>0.000000</td>\n      <td>0.000000</td>\n      <td>0.000000</td>\n      <td>0.000000</td>\n      <td>0.000000</td>\n      <td>0.000000</td>\n      <td>0.000000</td>\n      <td>0.000000</td>\n      <td>0.000000</td>\n      <td>50.000000</td>\n      <td>0.000000</td>\n      <td>0.019163</td>\n      <td>0.000000</td>\n    </tr>\n    <tr>\n      <th>25%</th>\n      <td>128.281915</td>\n      <td>0.888889</td>\n      <td>39.635000</td>\n      <td>0.000000</td>\n      <td>0.000000</td>\n      <td>0.000000</td>\n      <td>0.083333</td>\n      <td>0.000000</td>\n      <td>0.000000</td>\n      <td>0.000000</td>\n      <td>0.000000</td>\n      <td>1.000000</td>\n      <td>1600.000000</td>\n      <td>383.276166</td>\n      <td>170.857654</td>\n      <td>0.000000</td>\n    </tr>\n    <tr>\n      <th>50%</th>\n      <td>873.385231</td>\n      <td>1.000000</td>\n      <td>361.280000</td>\n      <td>38.000000</td>\n      <td>89.000000</td>\n      <td>0.000000</td>\n      <td>0.500000</td>\n      <td>0.083333</td>\n      <td>0.166667</td>\n      <td>0.000000</td>\n      <td>0.000000</td>\n      <td>7.000000</td>\n      <td>3000.000000</td>\n      <td>856.901546</td>\n      <td>312.343947</td>\n      <td>0.000000</td>\n    </tr>\n    <tr>\n      <th>75%</th>\n      <td>2054.140036</td>\n      <td>1.000000</td>\n      <td>1110.130000</td>\n      <td>577.405000</td>\n      <td>468.637500</td>\n      <td>1113.821139</td>\n      <td>0.916667</td>\n      <td>0.300000</td>\n      <td>0.750000</td>\n      <td>0.222222</td>\n      <td>4.000000</td>\n      <td>17.000000</td>\n      <td>6500.000000</td>\n      <td>1901.134317</td>\n      <td>788.713501</td>\n      <td>0.142857</td>\n    </tr>\n    <tr>\n      <th>max</th>\n      <td>19043.138560</td>\n      <td>1.000000</td>\n      <td>49039.570000</td>\n      <td>40761.250000</td>\n      <td>22500.000000</td>\n      <td>47137.211760</td>\n      <td>1.000000</td>\n      <td>1.000000</td>\n      <td>1.000000</td>\n      <td>1.500000</td>\n      <td>123.000000</td>\n      <td>358.000000</td>\n      <td>30000.000000</td>\n      <td>50721.483360</td>\n      <td>76406.207520</td>\n      <td>1.000000</td>\n    </tr>\n  </tbody>\n</table>\n</div>"
     },
     "metadata": {},
     "execution_count": 7
    }
   ],
   "source": [
    "df.describe()"
   ]
  },
  {
   "cell_type": "code",
   "execution_count": 8,
   "metadata": {},
   "outputs": [
    {
     "output_type": "execute_result",
     "data": {
      "text/plain": [
       "array([[3.93555441e-02, 7.87271593e-04, 9.17958473e-02, ...,\n",
       "        1.94178127e-01, 1.34239194e-01, 0.00000000e+00],\n",
       "       [2.93875903e-01, 8.34231560e-05, 0.00000000e+00, ...,\n",
       "        3.76516684e-01, 9.84037959e-02, 2.03923046e-05],\n",
       "       [3.10798149e-01, 1.24560965e-04, 9.63068011e-02, ...,\n",
       "        7.74852335e-02, 7.81351982e-02, 0.00000000e+00],\n",
       "       ...,\n",
       "       [2.27733092e-02, 8.11060955e-04, 1.40540698e-01, ...,\n",
       "        7.90986945e-02, 8.02156174e-02, 2.43318384e-04],\n",
       "       [2.65257948e-02, 1.64255731e-03, 0.00000000e+00, ...,\n",
       "        1.03579625e-01, 1.09898221e-01, 4.92767391e-04],\n",
       "       [1.86406219e-01, 3.33426837e-04, 5.46778061e-01, ...,\n",
       "        3.15915455e-02, 4.41568390e-02, 0.00000000e+00]])"
      ]
     },
     "metadata": {},
     "execution_count": 8
    }
   ],
   "source": [
    "from sklearn.preprocessing import Normalizer\n",
    "\n",
    "values = Normalizer().fit_transform(df.values)\n",
    "values"
   ]
  },
  {
   "cell_type": "code",
   "execution_count": 9,
   "metadata": {},
   "outputs": [
    {
     "output_type": "execute_result",
     "data": {
      "text/plain": [
       "    BALANCE  BALANCE_FREQUENCY  PURCHASES  ONEOFF_PURCHASES  \\\n",
       "0  0.039356           0.000787   0.091796          0.000000   \n",
       "1  0.293876           0.000083   0.000000          0.000000   \n",
       "2  0.310798           0.000125   0.096307          0.096307   \n",
       "3  0.208887           0.000080   0.187872          0.187872   \n",
       "4  0.504298           0.000617   0.009867          0.009867   \n",
       "\n",
       "   INSTALLMENTS_PURCHASES  CASH_ADVANCE  PURCHASES_FREQUENCY  \\\n",
       "0                0.091796      0.000000             0.000160   \n",
       "1                0.000000      0.591240             0.000000   \n",
       "2                0.000000      0.000000             0.000125   \n",
       "3                0.000000      0.025792             0.000010   \n",
       "4                0.000000      0.000000             0.000051   \n",
       "\n",
       "   ONEOFF_PURCHASES_FREQUENCY  PURCHASES_INSTALLMENTS_FREQUENCY  \\\n",
       "0                    0.000000                           0.00008   \n",
       "1                    0.000000                           0.00000   \n",
       "2                    0.000125                           0.00000   \n",
       "3                    0.000010                           0.00000   \n",
       "4                    0.000051                           0.00000   \n",
       "\n",
       "   CASH_ADVANCE_FREQUENCY  CASH_ADVANCE_TRX  PURCHASES_TRX  CREDIT_LIMIT  \\\n",
       "0                0.000000          0.000000       0.001924      0.962221   \n",
       "1                0.000023          0.000367       0.000000      0.642358   \n",
       "2                0.000000          0.000000       0.001495      0.934207   \n",
       "3                0.000010          0.000125       0.000125      0.939988   \n",
       "4                0.000000          0.000000       0.000617      0.740060   \n",
       "\n",
       "   PAYMENTS  MINIMUM_PAYMENTS  PRC_FULL_PAYMENT  \n",
       "0  0.194178          0.134239           0.00000  \n",
       "1  0.376517          0.098404           0.00002  \n",
       "2  0.077485          0.078135           0.00000  \n",
       "3  0.000000          0.039147           0.00000  \n",
       "4  0.418340          0.150967           0.00000  "
      ],
      "text/html": "<div>\n<style scoped>\n    .dataframe tbody tr th:only-of-type {\n        vertical-align: middle;\n    }\n\n    .dataframe tbody tr th {\n        vertical-align: top;\n    }\n\n    .dataframe thead th {\n        text-align: right;\n    }\n</style>\n<table border=\"1\" class=\"dataframe\">\n  <thead>\n    <tr style=\"text-align: right;\">\n      <th></th>\n      <th>BALANCE</th>\n      <th>BALANCE_FREQUENCY</th>\n      <th>PURCHASES</th>\n      <th>ONEOFF_PURCHASES</th>\n      <th>INSTALLMENTS_PURCHASES</th>\n      <th>CASH_ADVANCE</th>\n      <th>PURCHASES_FREQUENCY</th>\n      <th>ONEOFF_PURCHASES_FREQUENCY</th>\n      <th>PURCHASES_INSTALLMENTS_FREQUENCY</th>\n      <th>CASH_ADVANCE_FREQUENCY</th>\n      <th>CASH_ADVANCE_TRX</th>\n      <th>PURCHASES_TRX</th>\n      <th>CREDIT_LIMIT</th>\n      <th>PAYMENTS</th>\n      <th>MINIMUM_PAYMENTS</th>\n      <th>PRC_FULL_PAYMENT</th>\n    </tr>\n  </thead>\n  <tbody>\n    <tr>\n      <th>0</th>\n      <td>0.039356</td>\n      <td>0.000787</td>\n      <td>0.091796</td>\n      <td>0.000000</td>\n      <td>0.091796</td>\n      <td>0.000000</td>\n      <td>0.000160</td>\n      <td>0.000000</td>\n      <td>0.00008</td>\n      <td>0.000000</td>\n      <td>0.000000</td>\n      <td>0.001924</td>\n      <td>0.962221</td>\n      <td>0.194178</td>\n      <td>0.134239</td>\n      <td>0.00000</td>\n    </tr>\n    <tr>\n      <th>1</th>\n      <td>0.293876</td>\n      <td>0.000083</td>\n      <td>0.000000</td>\n      <td>0.000000</td>\n      <td>0.000000</td>\n      <td>0.591240</td>\n      <td>0.000000</td>\n      <td>0.000000</td>\n      <td>0.00000</td>\n      <td>0.000023</td>\n      <td>0.000367</td>\n      <td>0.000000</td>\n      <td>0.642358</td>\n      <td>0.376517</td>\n      <td>0.098404</td>\n      <td>0.00002</td>\n    </tr>\n    <tr>\n      <th>2</th>\n      <td>0.310798</td>\n      <td>0.000125</td>\n      <td>0.096307</td>\n      <td>0.096307</td>\n      <td>0.000000</td>\n      <td>0.000000</td>\n      <td>0.000125</td>\n      <td>0.000125</td>\n      <td>0.00000</td>\n      <td>0.000000</td>\n      <td>0.000000</td>\n      <td>0.001495</td>\n      <td>0.934207</td>\n      <td>0.077485</td>\n      <td>0.078135</td>\n      <td>0.00000</td>\n    </tr>\n    <tr>\n      <th>3</th>\n      <td>0.208887</td>\n      <td>0.000080</td>\n      <td>0.187872</td>\n      <td>0.187872</td>\n      <td>0.000000</td>\n      <td>0.025792</td>\n      <td>0.000010</td>\n      <td>0.000010</td>\n      <td>0.00000</td>\n      <td>0.000010</td>\n      <td>0.000125</td>\n      <td>0.000125</td>\n      <td>0.939988</td>\n      <td>0.000000</td>\n      <td>0.039147</td>\n      <td>0.00000</td>\n    </tr>\n    <tr>\n      <th>4</th>\n      <td>0.504298</td>\n      <td>0.000617</td>\n      <td>0.009867</td>\n      <td>0.009867</td>\n      <td>0.000000</td>\n      <td>0.000000</td>\n      <td>0.000051</td>\n      <td>0.000051</td>\n      <td>0.00000</td>\n      <td>0.000000</td>\n      <td>0.000000</td>\n      <td>0.000617</td>\n      <td>0.740060</td>\n      <td>0.418340</td>\n      <td>0.150967</td>\n      <td>0.00000</td>\n    </tr>\n  </tbody>\n</table>\n</div>"
     },
     "metadata": {},
     "execution_count": 9
    }
   ],
   "source": [
    "df_normalizado = pd.DataFrame(values, columns = df.columns)\n",
    "df_normalizado.head()"
   ]
  },
  {
   "cell_type": "code",
   "execution_count": 10,
   "metadata": {},
   "outputs": [
    {
     "output_type": "execute_result",
     "data": {
      "text/plain": [
       "array([0, 3, 0, ..., 0, 0, 2])"
      ]
     },
     "metadata": {},
     "execution_count": 10
    }
   ],
   "source": [
    "from sklearn.cluster import KMeans\n",
    "\n",
    "kmeans = KMeans(n_clusters=5, n_init=10, max_iter=300)\n",
    "y_predict = kmeans.fit_predict(values)\n",
    "y_predict"
   ]
  },
  {
   "cell_type": "code",
   "execution_count": 11,
   "metadata": {},
   "outputs": [
    {
     "output_type": "stream",
     "name": "stdout",
     "text": [
      "O coeficiente de silhoutte é de  0.36\n"
     ]
    }
   ],
   "source": [
    "from sklearn.metrics import silhouette_score\n",
    "\n",
    "silhouette = silhouette_score(values, y_predict, metric='euclidean')\n",
    "print(f'O coeficiente de silhoutte é de {silhouette : 0.2f}')"
   ]
  },
  {
   "cell_type": "code",
   "execution_count": 12,
   "metadata": {},
   "outputs": [
    {
     "output_type": "stream",
     "name": "stdout",
     "text": [
      "O coeficiente de Davies-Bouldin é de  1.08\n"
     ]
    }
   ],
   "source": [
    "from sklearn.metrics import davies_bouldin_score\n",
    "\n",
    "dbs = davies_bouldin_score(values, y_predict) \n",
    "print(f'O coeficiente de Davies-Bouldin é de {dbs : 0.2f}')"
   ]
  },
  {
   "cell_type": "code",
   "execution_count": 13,
   "metadata": {},
   "outputs": [
    {
     "output_type": "stream",
     "name": "stdout",
     "text": [
      "O coeficiente de Calinski é de  3431.59\n"
     ]
    }
   ],
   "source": [
    "from sklearn.metrics import calinski_harabasz_score\n",
    "\n",
    "calinski = calinski_harabasz_score(values, y_predict) \n",
    "print(f'O coeficiente de Calinski é de {calinski : 0.2f}')"
   ]
  },
  {
   "cell_type": "code",
   "execution_count": null,
   "metadata": {},
   "outputs": [],
   "source": []
  }
 ]
}